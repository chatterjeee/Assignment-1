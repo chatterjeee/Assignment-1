{
 "cells": [
  {
   "cell_type": "code",
   "execution_count": 1,
   "id": "6c3f13cc-d02e-45c0-8b46-5f5ed7a60b27",
   "metadata": {},
   "outputs": [],
   "source": [
    "# Q1. What are the three measures of central tendency?\n",
    "# - Mean\n",
    "# - Median\n",
    "# - Mode\n",
    "\n",
    "# Q2. What is the difference between the mean, median, and mode? How are they used to measure the central tendency of a dataset?\n",
    "# - Mean: Arithmetic average; sensitive to extreme values.\n",
    "# - Median: Middle value; less sensitive to extreme values.\n",
    "# - Mode: Most frequently occurring value; can be used for categorical data.\n",
    "# These measures help describe the central tendency of a dataset, providing insights into typical values."
   ]
  },
  {
   "cell_type": "code",
   "execution_count": 2,
   "id": "263cfb08-6424-456c-a717-199353a00a1b",
   "metadata": {},
   "outputs": [
    {
     "data": {
      "text/plain": [
       "177.01875"
      ]
     },
     "execution_count": 2,
     "metadata": {},
     "output_type": "execute_result"
    }
   ],
   "source": [
    "# Q3. Measure the three measures of central tendency for the given height data:\n",
    "height_data = [178, 177, 176, 177, 178.2, 178, 175, 179, 180, 175, 178.9, 176.2, 177, 172.5, 178, 176.5]\n",
    "import numpy as np\n",
    "np.mean(height_data)"
   ]
  },
  {
   "cell_type": "code",
   "execution_count": 3,
   "id": "6c3dd1e0-c20c-475f-a489-211351be3a84",
   "metadata": {},
   "outputs": [
    {
     "data": {
      "text/plain": [
       "177.0"
      ]
     },
     "execution_count": 3,
     "metadata": {},
     "output_type": "execute_result"
    }
   ],
   "source": [
    "np.median(height_data)"
   ]
  },
  {
   "cell_type": "code",
   "execution_count": 4,
   "id": "ef4bed4d-cb73-4c0f-90ba-8a84a1bb1747",
   "metadata": {},
   "outputs": [
    {
     "data": {
      "text/plain": [
       "178"
      ]
     },
     "execution_count": 4,
     "metadata": {},
     "output_type": "execute_result"
    }
   ],
   "source": [
    "import statistics as s\n",
    "s.mode(height_data)"
   ]
  },
  {
   "cell_type": "code",
   "execution_count": 5,
   "id": "213cf69a-7786-4993-9e90-341db7b268a5",
   "metadata": {},
   "outputs": [
    {
     "data": {
      "text/plain": [
       "1.7885814036548633"
      ]
     },
     "execution_count": 5,
     "metadata": {},
     "output_type": "execute_result"
    }
   ],
   "source": [
    "# Q4. Find the standard deviation for the given datapopulation data\n",
    "np.std(height_data)"
   ]
  },
  {
   "cell_type": "code",
   "execution_count": 6,
   "id": "cb92eb7e-d5cd-4139-be53-552b0f850bd6",
   "metadata": {},
   "outputs": [
    {
     "data": {
      "text/plain": [
       "1.8472389305844188"
      ]
     },
     "execution_count": 6,
     "metadata": {},
     "output_type": "execute_result"
    }
   ],
   "source": [
    "s.stdev(height_data)#//sampledata"
   ]
  },
  {
   "cell_type": "code",
   "execution_count": 7,
   "id": "a767dadd-074b-48a7-956d-a10f2247a959",
   "metadata": {},
   "outputs": [],
   "source": [
    "# Q5. How are measures of dispersion such as range, variance, and standard deviation used to describe the spread of a dataset? Provide an example.\n",
    "# - Range: Difference between the maximum and minimum values.\n",
    "# - Variance: Average of squared differences from the mean.\n",
    "# - Standard Deviation: Square root of the variance.\n",
    "# Example: height_data_range = max(height_data) - min(height_data)"
   ]
  },
  {
   "cell_type": "code",
   "execution_count": 8,
   "id": "f8666e37-42c2-40f0-8e95-51f0483bb758",
   "metadata": {},
   "outputs": [
    {
     "data": {
      "text/plain": [
       "{2, 6}"
      ]
     },
     "execution_count": 8,
     "metadata": {},
     "output_type": "execute_result"
    }
   ],
   "source": [
    "# Q6. What is a Venn diagram?\n",
    "# A Venn diagram is a visual representation of the relationships between different sets. It uses overlapping circles to show commonalities and differences between sets.\n",
    "\n",
    "# Q7. For the two given sets A = (2,3,4,5,6,7) & B = (0,2,6,8,10). Find:\n",
    "A={2,3,4,5,6,7}\n",
    "B={0,2,6,8,10}\n",
    "A.intersection(B)"
   ]
  },
  {
   "cell_type": "code",
   "execution_count": 9,
   "id": "4f518d51-2a60-4db4-86b1-3a6cb8b0af5d",
   "metadata": {},
   "outputs": [
    {
     "data": {
      "text/plain": [
       "{0, 2, 3, 4, 5, 6, 7, 8, 10}"
      ]
     },
     "execution_count": 9,
     "metadata": {},
     "output_type": "execute_result"
    }
   ],
   "source": [
    "A.union(B)"
   ]
  },
  {
   "cell_type": "code",
   "execution_count": 10,
   "id": "89dc2eb9-47e8-4532-b9d5-d0e9b09f30e6",
   "metadata": {},
   "outputs": [],
   "source": [
    "# Q8. What do you understand about skewness in data?\n",
    "# Skewness measures the asymmetry of a probability distribution. Positive skewness indicates a right-skewed distribution, while negative skewness indicates a left-skewed distribution.\n",
    "\n",
    "# Q9. If a data is right skewed then what will be the position of median with respect to mean?\n",
    "# In a right-skewed distribution, the median will be less than the mean.\n",
    "\n",
    "# Q10. Explain the difference between covariance and correlation. How are these measures used in statistical analysis?\n",
    "# - Covariance: Measures how two variables change together. Positive covariance indicates a direct relationship, while negative covariance indicates an inverse relationship.\n",
    "# - Correlation: Standardized measure of the strength and direction of the linear relationship between two variables. Ranges from -1 to 1.\n",
    "\n",
    "# Q11. What is the formula for calculating the sample mean? Provide an example calculation for a dataset.\n",
    "# Formula: Mean = (Sum of values) / (Number of observations)\n",
    "# Example: dataset = [10, 15, 20, 25], mean = sum(dataset) / len(dataset)\n",
    "\n",
    "# Q12. For a normal distribution data what is the relationship between its measure of central tendency?\n",
    "# In a normal distribution, the mean, median, and mode are approximately equal, creating a symmetric bell-shaped curve.\n",
    "\n",
    "# Q13. How is covariance different from correlation?\n",
    "# Covariance measures the degree of joint variability between two variables, whereas correlation standardizes this measure to be between -1 and 1, making it easier to interpret.\n",
    "\n",
    "# Q14. How do outliers affect measures of central tendency and dispersion? Provide an example.\n",
    "# Outliers can significantly impact the mean, pulling it towards extreme values. However, the median is less affected. Measures of dispersion, such as standard deviation, may also be influenced.\n"
   ]
  },
  {
   "cell_type": "code",
   "execution_count": null,
   "id": "ce07f33a-aa95-47d2-945e-320aacc3175c",
   "metadata": {},
   "outputs": [],
   "source": []
  }
 ],
 "metadata": {
  "kernelspec": {
   "display_name": "Python 3 (ipykernel)",
   "language": "python",
   "name": "python3"
  },
  "language_info": {
   "codemirror_mode": {
    "name": "ipython",
    "version": 3
   },
   "file_extension": ".py",
   "mimetype": "text/x-python",
   "name": "python",
   "nbconvert_exporter": "python",
   "pygments_lexer": "ipython3",
   "version": "3.10.8"
  }
 },
 "nbformat": 4,
 "nbformat_minor": 5
}
