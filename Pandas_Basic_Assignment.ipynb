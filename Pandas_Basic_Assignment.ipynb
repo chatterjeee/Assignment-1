{
 "cells": [
  {
   "cell_type": "code",
   "execution_count": 28,
   "id": "f02409fa-1ba0-4fa9-af1c-cf1d390c8071",
   "metadata": {},
   "outputs": [
    {
     "name": "stdout",
     "output_type": "stream",
     "text": [
      "0     4\n",
      "1     8\n",
      "2    15\n",
      "3    16\n",
      "4    23\n",
      "5    42\n",
      "dtype: int64\n"
     ]
    }
   ],
   "source": [
    "#Q1. Create a Pandas Series that contains the following data: 4, 8, 15, 16, 23, and 42. Then, print the series.\n",
    "import pandas as pd\n",
    "l=[4, 8, 15, 16, 23,42]\n",
    "ser1=pd.Series(l)\n",
    "print(ser1)\n"
   ]
  },
  {
   "cell_type": "code",
   "execution_count": 30,
   "id": "aa0e60ba-ada0-4677-b59c-9fcdd22de240",
   "metadata": {},
   "outputs": [
    {
     "name": "stdout",
     "output_type": "stream",
     "text": [
      "0     abc\n",
      "1      45\n",
      "2      55\n",
      "3       6\n",
      "4       6\n",
      "5       6\n",
      "6       1\n",
      "7      56\n",
      "8       0\n",
      "9      55\n",
      "10     56\n",
      "dtype: object\n"
     ]
    }
   ],
   "source": [
    "#Create a variable of list type containing 10 elements in it, and apply pandas.Series function on the\n",
    "#variable print it.\n",
    "l1=[\"abc\",45,55,6,6,6,1,56,0,55,56]\n",
    "s=pd.Series(l1)\n",
    "print(s)"
   ]
  },
  {
   "cell_type": "code",
   "execution_count": 36,
   "id": "a6983651-0981-434f-96a1-79274dd331a8",
   "metadata": {},
   "outputs": [
    {
     "name": "stdout",
     "output_type": "stream",
     "text": [
      "     name  age  Gender\n",
      "0   Alice   25  Female\n",
      "1     Bob   30    Male\n",
      "2  Claire   27  Female\n"
     ]
    }
   ],
   "source": [
    "#3\n",
    "data={'name':['Alice','Bob','Claire'],\n",
    "      'age' :[25,30,27],\n",
    "      'Gender':['Female','Male','Female']\n",
    "     }\n",
    "print(pd.DataFrame(data))"
   ]
  },
  {
   "cell_type": "code",
   "execution_count": 43,
   "id": "7a650383-f56d-429f-9715-57db34b48c2f",
   "metadata": {},
   "outputs": [
    {
     "name": "stdout",
     "output_type": "stream",
     "text": [
      "Series_Data:\n",
      " 0    abc\n",
      "1     45\n",
      "2     11\n",
      "3      0\n",
      "4      5\n",
      "dtype: object\n",
      "DataFrame:\n",
      "        Name Class  Rollno\n",
      "0      Ashok     7       1\n",
      "1       Anna     6       2\n",
      "2  Dipanwita     5       3\n"
     ]
    }
   ],
   "source": [
    "#4\n",
    "'''\n",
    "--> A Series is a one-dimensional labeled array, representing a single column of data.\n",
    "A Series is essentially a single column of a DataFrame. \n",
    "It can be seen as a specialized case of a DataFrame with only one column.\n",
    "\n",
    "--> A DataFrame is a two-dimensional labeled data structure, resembling a table with rows and columns.\n",
    "It can contain multiple columns, each of which can be a Series.\n",
    "\n",
    "'''\n",
    "\n",
    "series_data=[\"abc\", 45,11,0,5]\n",
    "print(\"Series_Data:\\n\",pd.Series(series_data))\n",
    "dataframe_data={'Name':[\"Ashok\",\"Anna\",\"Dipanwita\"],\n",
    "                'Class':[\"7\",\"6\",\"5\"],\n",
    "                'Rollno':[1,2,3]\n",
    "}\n",
    "print(\"DataFrame:\")\n",
    "print(pd.DataFrame(dataframe_data))"
   ]
  },
  {
   "cell_type": "code",
   "execution_count": 13,
   "id": "1e9c39cc-9617-410e-82bd-45d060862ea1",
   "metadata": {},
   "outputs": [
    {
     "name": "stdout",
     "output_type": "stream",
     "text": [
      "Index(['Age', 'Salary'], dtype='object')\n"
     ]
    }
   ],
   "source": [
    "#5 Q5. What are some common functions you can use to manipulate data in a Pandas DataFrame? Can\n",
    "#you give an example of when you might use one of these functions?\n",
    "\n",
    "'''\n",
    "Common functions that we use in Pandas are as follows:\n",
    "- df.head()    # Displays the first few rows in the DataFrame.\n",
    "- df.tail()    # Displays the last few rows in the DataFrame.\n",
    "- df.info()    # Provides a concise summary of the DataFrame.\n",
    "- df.describe()    # Generates descriptive statistics.\n",
    "- df.columns    # Returns the column labels of the DataFrame.\n",
    "- df.shape    # Returns a tuple representing the dimensions (rows, columns) of the DataFrame.\n",
    "- df['column_name'].mean()    # Calculates the mean of a specific column.\n",
    "- df.iloc[]    # Allows for integer-location based indexing for selection.\n",
    "- df.loc[]    # Allows for label-based indexing for selection.\n",
    "- df['column_name'].value_counts()    # Returns the counts of unique values in a column.\n",
    "'''\n",
    "\n",
    "import pandas as pd\n",
    "\n",
    "# Creating a sample DataFrame\n",
    "data = {'Age': [25, 30, 35, 40, 45],\n",
    "        'Salary': [50000, 60000, 75000, 90000, 80000]}\n",
    "df = pd.DataFrame(data)\n",
    "print(df.columns)"
   ]
  },
  {
   "cell_type": "code",
   "execution_count": 15,
   "id": "f7ce71a6-2a97-42e9-aa3b-441fc73cb3f6",
   "metadata": {},
   "outputs": [
    {
     "name": "stdout",
     "output_type": "stream",
     "text": [
      "             Age        Salary\n",
      "count   5.000000      5.000000\n",
      "mean   35.000000  71000.000000\n",
      "std     7.905694  15968.719423\n",
      "min    25.000000  50000.000000\n",
      "25%    30.000000  60000.000000\n",
      "50%    35.000000  75000.000000\n",
      "75%    40.000000  80000.000000\n",
      "max    45.000000  90000.000000\n"
     ]
    }
   ],
   "source": [
    "#5. # Using df.describe() to get descriptive statistics\n",
    "summary_statistics = df.describe()\n",
    "\n",
    "print(summary_statistics)\n"
   ]
  },
  {
   "cell_type": "code",
   "execution_count": 18,
   "id": "4f83e575-2abf-4528-881a-d6ed5b5fbe42",
   "metadata": {},
   "outputs": [
    {
     "data": {
      "text/plain": [
       "60000"
      ]
     },
     "execution_count": 18,
     "metadata": {},
     "output_type": "execute_result"
    }
   ],
   "source": [
    "#5\n",
    "df.loc[1,'Salary']"
   ]
  },
  {
   "cell_type": "code",
   "execution_count": 19,
   "id": "a9c266df-7b14-4175-b2f2-b49946364790",
   "metadata": {},
   "outputs": [
    {
     "data": {
      "text/html": [
       "<div>\n",
       "<style scoped>\n",
       "    .dataframe tbody tr th:only-of-type {\n",
       "        vertical-align: middle;\n",
       "    }\n",
       "\n",
       "    .dataframe tbody tr th {\n",
       "        vertical-align: top;\n",
       "    }\n",
       "\n",
       "    .dataframe thead th {\n",
       "        text-align: right;\n",
       "    }\n",
       "</style>\n",
       "<table border=\"1\" class=\"dataframe\">\n",
       "  <thead>\n",
       "    <tr style=\"text-align: right;\">\n",
       "      <th></th>\n",
       "      <th>Age</th>\n",
       "      <th>Salary</th>\n",
       "    </tr>\n",
       "  </thead>\n",
       "  <tbody>\n",
       "    <tr>\n",
       "      <th>0</th>\n",
       "      <td>25</td>\n",
       "      <td>50000</td>\n",
       "    </tr>\n",
       "    <tr>\n",
       "      <th>1</th>\n",
       "      <td>30</td>\n",
       "      <td>60000</td>\n",
       "    </tr>\n",
       "    <tr>\n",
       "      <th>2</th>\n",
       "      <td>35</td>\n",
       "      <td>75000</td>\n",
       "    </tr>\n",
       "    <tr>\n",
       "      <th>3</th>\n",
       "      <td>40</td>\n",
       "      <td>90000</td>\n",
       "    </tr>\n",
       "    <tr>\n",
       "      <th>4</th>\n",
       "      <td>45</td>\n",
       "      <td>80000</td>\n",
       "    </tr>\n",
       "  </tbody>\n",
       "</table>\n",
       "</div>"
      ],
      "text/plain": [
       "   Age  Salary\n",
       "0   25   50000\n",
       "1   30   60000\n",
       "2   35   75000\n",
       "3   40   90000\n",
       "4   45   80000"
      ]
     },
     "execution_count": 19,
     "metadata": {},
     "output_type": "execute_result"
    }
   ],
   "source": [
    "#5\n",
    "df.head()"
   ]
  },
  {
   "cell_type": "code",
   "execution_count": 20,
   "id": "1f8c487a-9ce4-4921-84f4-37e5c3fdb51b",
   "metadata": {},
   "outputs": [],
   "source": [
    "#6\n",
    "#Series: Series is mutable. You can modify the values within a Series after it has been created.\n",
    "#DataFrame: DataFrame is mutable. You can modify the values, add or remove columns, and perform various operations to modify the \n",
    "#structure and content of a DataFrame."
   ]
  },
  {
   "cell_type": "code",
   "execution_count": 21,
   "id": "5741a0d7-1a8a-431f-b4b3-8566e3eef61f",
   "metadata": {},
   "outputs": [
    {
     "name": "stdout",
     "output_type": "stream",
     "text": [
      "  Name  Age  Salary\n",
      "0    A   25   50000\n",
      "1    B   30   60000\n",
      "2    C   35   75000\n",
      "3    D   40   90000\n"
     ]
    }
   ],
   "source": [
    "#7\n",
    "import pandas as pd\n",
    "\n",
    "# Creating multiple Series\n",
    "names = pd.Series(['A', 'B', 'C', 'D'])\n",
    "ages = pd.Series([25, 30, 35, 40])\n",
    "salaries = pd.Series([50000, 60000, 75000, 90000])\n",
    "\n",
    "# Combining Series into a DataFrame\n",
    "df = pd.DataFrame({'Name': names, 'Age': ages, 'Salary': salaries})\n",
    "\n",
    "# Displaying the resulting DataFrame\n",
    "print(df)\n"
   ]
  },
  {
   "cell_type": "code",
   "execution_count": null,
   "id": "fad76c5a-d448-423b-8010-b0a8f5a73c33",
   "metadata": {},
   "outputs": [],
   "source": []
  }
 ],
 "metadata": {
  "kernelspec": {
   "display_name": "Python 3 (ipykernel)",
   "language": "python",
   "name": "python3"
  },
  "language_info": {
   "codemirror_mode": {
    "name": "ipython",
    "version": 3
   },
   "file_extension": ".py",
   "mimetype": "text/x-python",
   "name": "python",
   "nbconvert_exporter": "python",
   "pygments_lexer": "ipython3",
   "version": "3.10.8"
  }
 },
 "nbformat": 4,
 "nbformat_minor": 5
}
