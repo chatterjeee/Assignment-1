{
 "cells": [
  {
   "cell_type": "code",
   "execution_count": 1,
   "id": "b1abbb04-92fd-4294-90f2-ff98e780c330",
   "metadata": {},
   "outputs": [],
   "source": [
    "#1 Statistics is a branch of mathematics that involves the collection, analysis, interpretation, presentation, and organization of data.|"
   ]
  },
  {
   "cell_type": "code",
   "execution_count": 2,
   "id": "2a0c0958-634e-4942-85eb-475930b2aa43",
   "metadata": {},
   "outputs": [],
   "source": [
    "#2 There are two types of statistics:\n",
    "#a.Descriptive It consists of organizing and summarizing data but doesnot help in forming any conclusion.\n",
    "# eg: Average and median marks of a class\n",
    "#b.Inferential statistics- It consists of using sample data to form some conslusion about the population.\n",
    "# eg: Average marks of the class I is more than average marks of class II|"
   ]
  },
  {
   "cell_type": "code",
   "execution_count": 3,
   "id": "88f1095c-3f43-4192-9b0d-3a16b568a4ac",
   "metadata": {},
   "outputs": [],
   "source": [
    "# Data can be broadly classified into two categories Quantitative and Qualitative data\n",
    "# Quantitative data can be further classsified into Discrete & Continious\n",
    "# Qualitative data can be further classified into Nominal & Ordinal data\n",
    "# eg a.discrete: No. of students in a class. b. Continious: Weight of the student\n",
    "# eg c. Nominal: Name of the students d. Ordinal: Grade of the student: Excellent, Good, Fair, Needs improvement|"
   ]
  },
  {
   "cell_type": "code",
   "execution_count": 4,
   "id": "a3b88bff-3804-4b5a-a2c8-035da7c6bdfd",
   "metadata": {},
   "outputs": [],
   "source": [
    "#4. (i) Ordinal\n",
    "#   (ii)Nominal\n",
    "#   (iii)Continious\n",
    "#   (iv)Discrete|"
   ]
  },
  {
   "cell_type": "code",
   "execution_count": 5,
   "id": "bc2c6254-0e5e-48d6-8f96-b4f068b65913",
   "metadata": {},
   "outputs": [],
   "source": [
    "#5 levels of measurements inlcude:\n",
    "\n",
    "#a. Nominal Scale Data:\n",
    "    #--> Qualitative/Categorical data Eg: Colour, Name, PLace etc\n",
    "    #--> Order doesnot matter\n",
    "#b. Ordinal Scale data\n",
    "    #--> Order is present\n",
    "    #--> Ranking is important\n",
    "    #--> Differnce cannot be measured\n",
    "    #--> Eg: Good(3), Better(2), Best(1)\n",
    "#c Interval scale data\n",
    "    #-->Order matters\n",
    "    #-->Difference can be measured\n",
    "    #--> Ratio cannot be measured\n",
    "    #--> No true zero point\n",
    "    #--> Eg: Temperature\n",
    "#d Ratio Scale Data\n",
    "    #-->Order matters\n",
    "    #-->Difference can be measured\n",
    "    #--> Ratio can be measured\n",
    "    #--> True zero point\n",
    "    #--> Eg: Height, Weight\n"
   ]
  },
  {
   "cell_type": "code",
   "execution_count": 7,
   "id": "66b1e7bd-6e36-47fd-ba6a-b18f1929aa73",
   "metadata": {},
   "outputs": [],
   "source": [
    "#6.\n",
    "# When we are analyzing the performance of students in a class and we have data on their grades, which are measured on different scales:\n",
    "#If the grades are represented by categories like \"A,\" \"B,\" \"C,\" etc., this is nominal data.\n",
    "#If the grades have a meaningful order like \"A,\" \"B,\" \"C,\" and so on, but the intervals between the grades are not consistent, it is ordinal data.\n",
    "#If the grades are on a scale where the difference between an \"A\" and a \"B\" is the same as the difference between a \"B\" and a \"C,\" but there is no true zero point, it is interval data.\n",
    "#If the grades have a meaningful order, consistent intervals, and an actual absence (like zero, which could representa complete lack of understanding), then it is ratio data.\n",
    "# Understanding the level of measurement in this context will guide you in choosing appropriate statistical analyses.\n",
    "#For instance, we wouldn't calculate the mean grade for nominal data, but we might for interval or ratio data."
   ]
  },
  {
   "cell_type": "code",
   "execution_count": 10,
   "id": "40550ccf-bd96-4bfa-b1aa-0891829fa5b4",
   "metadata": {},
   "outputs": [],
   "source": [
    "#7 Nominal Data:\n",
    "\n",
    "#Categorical data with no inherent order.\n",
    "#Categories have no numerical significance.\n",
    "#Only equality and inequality comparisons are meaningful.\n",
    "#Examples: Colors, types of fruit, gender.\n",
    "\n",
    "#Ordinal Data:\n",
    "\n",
    "#Categorical data with a meaningful order or ranking.\n",
    "#Intervals between categories are not necessarily uniform.\n",
    "#Allows for greater-than or less-than comparisons.\n",
    "#Examples: Educational levels, socioeconomic status, customer satisfaction ratings."
   ]
  },
  {
   "cell_type": "code",
   "execution_count": 9,
   "id": "4a9de87b-bd2c-48bc-8a99-9672ac856cec",
   "metadata": {},
   "outputs": [],
   "source": [
    "#8. A box plot (also known as a box-and-whisker plot) is commonly used to display data in terms of range. The box plot provides a visual summary of the distribution of a dataset, including measures such as the minimum, first quartile (Q1), median (Q2), third quartile (Q3), and maximum."
   ]
  },
  {
   "cell_type": "code",
   "execution_count": 11,
   "id": "6fe673a5-9556-4d40-b6ee-e462c4af3588",
   "metadata": {},
   "outputs": [],
   "source": [
    "#9 Descriptive Statistics:\n",
    "\n",
    "#Summarizes and describes features of a dataset.\n",
    "#Examples: Mean, median, mode, range, standard deviation.\n",
    "#Focuses on presenting a clear summary of data characteristics.\n",
    "#Used for analyzing and interpreting the main features of a sample.\n",
    "#Inferential Statistics:\n",
    "\n",
    "#Makes inferences or predictions about a population based on a sample.\n",
    "#Examples: T-tests, ANOVA, regression analysis, confidence intervals.\n",
    "#Extends findings from a sample to the larger population.\n",
    "#Used for generalizing and drawing conclusions about a population using sample data."
   ]
  },
  {
   "cell_type": "code",
   "execution_count": 13,
   "id": "f0970411-cfda-440f-9e48-7fd3c7318860",
   "metadata": {},
   "outputs": [],
   "source": [
    "#10. **Measures of Central Tendency:**\n",
    "# Measures of Central Tendency:\n",
    "# - Mean: Arithmetic average. Mean = (Sum of values) / (Number of observations).\n",
    "# - Median: Middle value in a sorted dataset. Median calculation depends on data sorting.\n",
    "# - Mode: Most frequently occurring value. Identified by frequency analysis.\n",
    "\n",
    "# Measures of Variability:\n",
    "# - Range: Difference between maximum and minimum values. Range = Maximum - Minimum.\n",
    "# - Variance: Average of squared differences from the mean. Variance = Σ (xᵢ - μ)² / n.\n",
    "# - Standard Deviation: Square root of the variance. Standard Deviation = √Variance.\n",
    "# - Interquartile Range (IQR): Range between the first and third quartiles. IQR = Q3 - Q1.\n"
   ]
  },
  {
   "cell_type": "code",
   "execution_count": null,
   "id": "3d590cd4-23a6-439b-9d3b-8413ba5afa94",
   "metadata": {},
   "outputs": [],
   "source": []
  }
 ],
 "metadata": {
  "kernelspec": {
   "display_name": "Python 3 (ipykernel)",
   "language": "python",
   "name": "python3"
  },
  "language_info": {
   "codemirror_mode": {
    "name": "ipython",
    "version": 3
   },
   "file_extension": ".py",
   "mimetype": "text/x-python",
   "name": "python",
   "nbconvert_exporter": "python",
   "pygments_lexer": "ipython3",
   "version": "3.10.8"
  }
 },
 "nbformat": 4,
 "nbformat_minor": 5
}
