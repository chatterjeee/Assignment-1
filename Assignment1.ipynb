{
 "cells": [
  {
   "cell_type": "code",
   "execution_count": 1,
   "metadata": {},
   "outputs": [],
   "source": [
    "#Q1\n",
    "\n",
    "strvar1=\"String\"\n",
    "listvar2=[\"abc\",1, 2.2, False]\n",
    "floatvar3=3.3\n",
    "tuplevar4=(\"abc\",6,7.7, False)"
   ]
  },
  {
   "cell_type": "code",
   "execution_count": 2,
   "metadata": {},
   "outputs": [],
   "source": [
    "#Q2\n",
    "#var1-str\n",
    "#var2-str\n",
    "#var3-list\n",
    "#var4-tuple"
   ]
  },
  {
   "cell_type": "code",
   "execution_count": 3,
   "metadata": {},
   "outputs": [],
   "source": [
    "#Q3\n",
    "print(4/3) #Division\n",
    "print(4%3) #Modulo-operator --> gives the remainder\n",
    "print(4//3) #floor division --> gives the result of a division down to the nearest integer\n",
    "print(4**3) #power operator"
   ]
  },
  {
   "cell_type": "code",
   "execution_count": 4,
   "metadata": {},
   "outputs": [],
   "source": [
    "#Q4\n",
    "list1=[1,5,9,888,55.65,\"abcd\",\"Subhajit\",False,99.99,1000]\n",
    "for i in list1:\n",
    "    print(i)"
   ]
  },
  {
   "cell_type": "code",
   "execution_count": 5,
   "metadata": {},
   "outputs": [],
   "source": [
    "#Q5\n",
    "a=10\n",
    "b=5\n",
    "c=0\n",
    "while a%b==0:\n",
    "    c=c+1\n",
    "    a=a//b\n",
    "if c==0:\n",
    "    print(\"not divisible\")\n",
    "else:\n",
    "    print(\"divisible\")"
   ]
  },
  {
   "cell_type": "code",
   "execution_count": 6,
   "metadata": {},
   "outputs": [],
   "source": [
    "#Q6\n",
    "list2=list(range(0,25))\n",
    "for i in list2:\n",
    "    if i%3==0:\n",
    "        print(\"divisible\")\n",
    "    else:\n",
    "        print(\"Not divisible\")"
   ]
  },
  {
   "cell_type": "code",
   "execution_count": 7,
   "metadata": {},
   "outputs": [
    {
     "ename": "TypeError",
     "evalue": "'tuple' object does not support item assignment",
     "output_type": "error",
     "traceback": [
      "\u001b[1;31m---------------------------------------------------------------------------\u001b[0m",
      "\u001b[1;31mTypeError\u001b[0m                                 Traceback (most recent call last)",
      "\u001b[1;32m<ipython-input-7-6dc2a6b48cfb>\u001b[0m in \u001b[0;36m<module>\u001b[1;34m\u001b[0m\n\u001b[0;32m     11\u001b[0m \u001b[1;33m\u001b[0m\u001b[0m\n\u001b[0;32m     12\u001b[0m \u001b[0mtuple1\u001b[0m\u001b[1;33m=\u001b[0m\u001b[1;33m(\u001b[0m\u001b[1;34m\"String\"\u001b[0m\u001b[1;33m,\u001b[0m\u001b[1;36m1\u001b[0m\u001b[1;33m,\u001b[0m\u001b[1;36m5\u001b[0m\u001b[1;33m,\u001b[0m\u001b[1;36m62\u001b[0m\u001b[1;33m,\u001b[0m\u001b[1;32mFalse\u001b[0m\u001b[1;33m)\u001b[0m\u001b[1;33m\u001b[0m\u001b[1;33m\u001b[0m\u001b[0m\n\u001b[1;32m---> 13\u001b[1;33m \u001b[0mtuple1\u001b[0m\u001b[1;33m[\u001b[0m\u001b[1;36m2\u001b[0m\u001b[1;33m]\u001b[0m\u001b[1;33m=\u001b[0m\u001b[1;36m33\u001b[0m\u001b[1;33m\u001b[0m\u001b[1;33m\u001b[0m\u001b[0m\n\u001b[0m",
      "\u001b[1;31mTypeError\u001b[0m: 'tuple' object does not support item assignment"
     ]
    }
   ],
   "source": [
    "#Q7#Mutable data types are those that can be modified after they are created,\n",
    "#whereas immutable data types cannot be modified after they are created.\n",
    "#example of mutable data types include List and immutable data is string & tuple.\n",
    "\n",
    "# list_mutable\n",
    "list5=[\"String\",1,5,62,False] \n",
    "list5[2]=33\n",
    "list5\n",
    "\n",
    "#Tuple_immutable\n",
    "\n",
    "tuple1=(\"String\",1,5,62,False)\n",
    "tuple1[2]=33"
   ]
  },
  {
   "cell_type": "code",
   "execution_count": null,
   "metadata": {},
   "outputs": [],
   "source": []
  }
 ],
 "metadata": {
  "kernelspec": {
   "display_name": "Python 3",
   "language": "python",
   "name": "python3"
  },
  "language_info": {
   "codemirror_mode": {
    "name": "ipython",
    "version": 3
   },
   "file_extension": ".py",
   "mimetype": "text/x-python",
   "name": "python",
   "nbconvert_exporter": "python",
   "pygments_lexer": "ipython3",
   "version": "3.8.3"
  }
 },
 "nbformat": 4,
 "nbformat_minor": 4
}
